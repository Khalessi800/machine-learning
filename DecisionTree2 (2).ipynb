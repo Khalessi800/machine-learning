{
  "cells": [
    {
      "cell_type": "markdown",
      "metadata": {
        "id": "EWc4X7d0Kq8p"
      },
      "source": [
        "# **Importer les packages et données**"
      ]
    },
    {
      "cell_type": "code",
      "execution_count": null,
      "metadata": {
        "id": "Pbyk6BvBGklJ"
      },
      "outputs": [],
      "source": [
        "# Importation des bibliothèques nécessaires\n",
        "import pandas as pd\n",
        "import numpy as np\n",
        "import seaborn as sns\n",
        "import matplotlib.pyplot as plt\n",
        "from imblearn.under_sampling import RandomUnderSampler\n",
        "from sklearn.preprocessing import LabelEncoder\n",
        "import scipy.stats as stats\n",
        "from sklearn.metrics import mean_squared_error,mean_absolute_error,r2_score\n",
        "from sklearn.ensemble import RandomForestRegressor\n",
        "from sklearn.preprocessing import OneHotEncoder, StandardScaler\n",
        "from sklearn.compose import ColumnTransformer\n",
        "from sklearn.pipeline import Pipeline\n",
        "from sklearn.model_selection import train_test_split\n",
        "from sklearn.tree import DecisionTreeClassifier\n",
        "from sklearn.metrics import roc_auc_score, roc_curve, confusion_matrix, ConfusionMatrixDisplay"
      ]
    },
    {
      "cell_type": "code",
      "execution_count": null,
      "metadata": {
        "id": "MZeKwTNPH1GV"
      },
      "outputs": [],
      "source": [
        "df_train=pd.read_csv('adult_train.csv')\n",
        "df_test=pd.read_csv('adult_test.csv')"
      ]
    },
    {
      "cell_type": "markdown",
      "metadata": {
        "id": "TriYEzSWLQ38"
      },
      "source": [
        "# **Nettoyage des données**"
      ]
    },
    {
      "cell_type": "code",
      "execution_count": null,
      "metadata": {
        "id": "UFm1fOVUH4E7"
      },
      "outputs": [],
      "source": [
        "#supprimer les espaces blancs au début et à la fin de chaque chaîne de caractères.\n",
        "df_train[df_train.select_dtypes(include='object').columns] = df_train.select_dtypes(include='object').apply(lambda col: col.str.strip())\n",
        "df_test[df_test.select_dtypes(include='object').columns] = df_test.select_dtypes(include='object').apply(lambda col: col.str.strip())"
      ]
    },
    {
      "cell_type": "code",
      "execution_count": null,
      "metadata": {
        "colab": {
          "base_uri": "https://localhost:8080/"
        },
        "id": "jS2aDpZrLcx2",
        "outputId": "0991c782-5901-422f-aaf7-eedb50ae9593"
      },
      "outputs": [
        {
          "output_type": "stream",
          "name": "stdout",
          "text": [
            "Nombre total de lignes complètement identiques : 47\n"
          ]
        }
      ],
      "source": [
        "# Trouver toutes les lignes dupliquées\n",
        "duplicates = df_train[df_train.duplicated(keep=False)]  # Récupérer toutes les lignes dupliquées\n",
        "# Compter les doublons exacts\n",
        "print(f\"Nombre total de lignes complètement identiques : {len(duplicates)}\")"
      ]
    },
    {
      "cell_type": "code",
      "execution_count": null,
      "metadata": {
        "colab": {
          "base_uri": "https://localhost:8080/"
        },
        "id": "TR1KxAbDH721",
        "outputId": "6c345e94-04ae-4414-9ecc-b9859b38d6da"
      },
      "outputs": [
        {
          "output_type": "stream",
          "name": "stdout",
          "text": [
            "Nombre de lignes avant suppression des doublons : 32561\n",
            "Nombre de lignes après suppression des doublons : 32537\n"
          ]
        }
      ],
      "source": [
        "# Supprimer les doublons dans df_train\n",
        "df_train_cleaned = df_train.drop_duplicates()\n",
        "# Vérifier le nombre de lignes après suppression\n",
        "print(f\"Nombre de lignes avant suppression des doublons : {len(df_train)}\")\n",
        "print(f\"Nombre de lignes après suppression des doublons : {len(df_train_cleaned)}\")"
      ]
    },
    {
      "cell_type": "code",
      "execution_count": null,
      "metadata": {
        "colab": {
          "base_uri": "https://localhost:8080/"
        },
        "id": "vXlQzUFdH-u7",
        "outputId": "ddc1e1c6-3959-40af-b917-49cc6c8ce98c"
      },
      "outputs": [
        {
          "output_type": "stream",
          "name": "stdout",
          "text": [
            "Nombre total de lignes complètement identiques : 10\n"
          ]
        }
      ],
      "source": [
        "# Trouver toutes les lignes dupliquées\n",
        "duplicates = df_test[df_test.duplicated(keep=False)]  # Récupérer toutes les lignes dupliquées\n",
        "# Compter les doublons exacts\n",
        "print(f\"Nombre total de lignes complètement identiques : {len(duplicates)}\")"
      ]
    },
    {
      "cell_type": "code",
      "execution_count": null,
      "metadata": {
        "colab": {
          "base_uri": "https://localhost:8080/"
        },
        "id": "hc06G_lCLv1O",
        "outputId": "23953546-eac7-46ff-dad4-ce93a04d7497"
      },
      "outputs": [
        {
          "output_type": "stream",
          "name": "stdout",
          "text": [
            "Taille après suppression des doublons : (16276, 15)\n"
          ]
        }
      ],
      "source": [
        "# Supprimer les doublons exacts\n",
        "df_test_cleaned = df_test.drop_duplicates()\n",
        "print(f\"Taille après suppression des doublons : {df_test_cleaned.shape}\")"
      ]
    },
    {
      "cell_type": "markdown",
      "metadata": {
        "id": "9vhEaa4RMBN-"
      },
      "source": [
        "### **Vérifier les valeurs manquantes.**"
      ]
    },
    {
      "cell_type": "code",
      "execution_count": null,
      "metadata": {
        "colab": {
          "base_uri": "https://localhost:8080/"
        },
        "id": "rMQTEN4RINnV",
        "outputId": "71c0a5fb-d862-434f-d33c-518c786d3d4b"
      },
      "outputs": [
        {
          "output_type": "stream",
          "name": "stdout",
          "text": [
            "Colonne 'workclass' contient 1836 valeurs manquantes ('?').\n",
            "Colonne 'occupation' contient 1843 valeurs manquantes ('?').\n",
            "Colonne 'native-country' contient 582 valeurs manquantes ('?').\n"
          ]
        }
      ],
      "source": [
        "# Vérifier la présence de '?' dans chaque colonne\n",
        "for column in df_train_cleaned.columns:\n",
        "    if df_train_cleaned[column].dtype == 'object':  # Vérifier uniquement les colonnes qualitatives\n",
        "        missing_count = (df_train_cleaned[column] =='?').sum()\n",
        "        if missing_count > 0:\n",
        "            print(f\"Colonne '{column}' contient {missing_count} valeurs manquantes ('?').\")"
      ]
    },
    {
      "cell_type": "code",
      "execution_count": null,
      "metadata": {
        "colab": {
          "base_uri": "https://localhost:8080/"
        },
        "id": "6gfjiqzDIQDo",
        "outputId": "38501c39-8afd-4af4-f90a-4ac66d77916d"
      },
      "outputs": [
        {
          "output_type": "stream",
          "name": "stdout",
          "text": [
            "Colonne 'workclass' contient 963 valeurs manquantes ('?').\n",
            "Colonne 'occupation' contient 966 valeurs manquantes ('?').\n",
            "Colonne 'native-country' contient 274 valeurs manquantes ('?').\n"
          ]
        }
      ],
      "source": [
        "# Vérifier la présence de '?' dans chaque colonne\n",
        "for column in df_test_cleaned.columns:\n",
        "    if df_test_cleaned[column].dtype == 'object':  # Vérifier uniquement les colonnes qualitatives\n",
        "        missing_count = (df_test_cleaned[column] =='?').sum()\n",
        "        if missing_count > 0:\n",
        "            print(f\"Colonne '{column}' contient {missing_count} valeurs manquantes ('?').\")"
      ]
    },
    {
      "cell_type": "markdown",
      "metadata": {
        "id": "beQH7OtDMsbC"
      },
      "source": [
        "**Observation:**\n",
        "\n",
        "Bien que le jeu de données ne contienne aucune valeur nulle,:il y a beaucoup de valeurs **'?'** (un symbole utilisé pour indiquer des valeurs manquantes ) dans le jeu de données. Nous allons devoir remplacer ces valeurs ! **ce qui facilite ensuite les opérations de nettoyage et de traitement des données**."
      ]
    },
    {
      "cell_type": "code",
      "execution_count": null,
      "metadata": {
        "id": "Vm_M0eD5IS2b"
      },
      "outputs": [],
      "source": [
        "# Remplacer '?' par NaN (NaN est l'indicateur de valeur manquante en pandas)\n",
        "df_train_cleaned = df_train_cleaned.replace('?', pd.NA)\n",
        "df_test_cleaned = df_test_cleaned.replace('?', pd.NA)"
      ]
    },
    {
      "cell_type": "code",
      "execution_count": null,
      "metadata": {
        "id": "eEMFxVeVIasZ"
      },
      "outputs": [],
      "source": [
        "# Imputer les valeurs manquantes dans les colonnes spécifiques avec la valeur la plus fréquente\n",
        "for col in ['workclass', 'occupation', 'native-country']:\n",
        "    df_train_cleaned[col] = df_train_cleaned[col].fillna(df_train_cleaned[col].mode()[0])"
      ]
    },
    {
      "cell_type": "code",
      "execution_count": null,
      "metadata": {
        "colab": {
          "base_uri": "https://localhost:8080/"
        },
        "id": "gKPBPGWnNInX",
        "outputId": "46550402-bb7f-447d-8433-416fdc7bbe45"
      },
      "outputs": [
        {
          "output_type": "stream",
          "name": "stdout",
          "text": [
            "   age  workclass  Unnamed: 2     education  education-num  \\\n",
            "0   25    Private      226802          11th              7   \n",
            "1   38    Private       89814       HS-grad              9   \n",
            "2   28  Local-gov      336951    Assoc-acdm             12   \n",
            "3   44    Private      160323  Some-college             10   \n",
            "4   18    Private      103497  Some-college             10   \n",
            "\n",
            "       marital-status         occupation relationship   race     sex  \\\n",
            "0       Never-married  Machine-op-inspct    Own-child  Black    Male   \n",
            "1  Married-civ-spouse    Farming-fishing      Husband  White    Male   \n",
            "2  Married-civ-spouse    Protective-serv      Husband  White    Male   \n",
            "3  Married-civ-spouse  Machine-op-inspct      Husband  Black    Male   \n",
            "4       Never-married     Prof-specialty    Own-child  White  Female   \n",
            "\n",
            "   capital-gain  capital-loss  hours-per-week native-country  Income  \n",
            "0             0             0              40  United-States  <=50K.  \n",
            "1             0             0              50  United-States  <=50K.  \n",
            "2             0             0              40  United-States   >50K.  \n",
            "3          7688             0              40  United-States   >50K.  \n",
            "4             0             0              30  United-States  <=50K.  \n"
          ]
        }
      ],
      "source": [
        "# Imputer les valeurs manquantes dans les colonnes spécifiques avec la valeur la plus fréquente\n",
        "for col in ['workclass', 'occupation', 'native-country']:\n",
        "    df_test_cleaned[col] = df_test_cleaned[col].fillna(df_test_cleaned[col].mode()[0])\n",
        "# Afficher les premières lignes pour vérifier\n",
        "print(df_test_cleaned.head())"
      ]
    },
    {
      "cell_type": "markdown",
      "metadata": {
        "id": "lLJHXk4KNOo8"
      },
      "source": [
        "**Exemple:**\n",
        "La valeur **Private** a été choisie pour l'imputation car elle **est la plus fréquente dans la colonne Workclass**."
      ]
    },
    {
      "cell_type": "code",
      "execution_count": null,
      "metadata": {
        "id": "copeCecEQ295"
      },
      "outputs": [],
      "source": [
        "df_train_cleaned = df_train_cleaned.drop(['education'], axis=1)\n",
        "df_test_cleaned = df_test_cleaned.drop(['education'], axis=1)"
      ]
    },
    {
      "cell_type": "code",
      "execution_count": null,
      "metadata": {
        "id": "rBdk9ET2IuBP"
      },
      "outputs": [],
      "source": [
        "df_train_cleaned.loc[:, 'Income'] = df_train_cleaned['Income'].map({'<=50K': 0, '>50K': 1})\n",
        "df_test_cleaned.loc[:, 'Income'] = df_test_cleaned['Income'].map({'<=50K.': 0, '>50K.': 1})"
      ]
    },
    {
      "cell_type": "code",
      "execution_count": null,
      "metadata": {
        "colab": {
          "base_uri": "https://localhost:8080/",
          "height": 548
        },
        "id": "tytQxNsHSVQ0",
        "outputId": "89d9a373-433a-43ad-fb3c-0e8f7e842971"
      },
      "outputs": [
        {
          "output_type": "display_data",
          "data": {
            "text/plain": [
              "<Figure size 600x500 with 2 Axes>"
            ],
            "image/png": "[encoded data removed]"
          },
          "metadata": {}
        }
      ],
      "source": [
        "# Sélectionner uniquement les colonnes numériques\n",
        "numeric_df = df_train_cleaned.select_dtypes(include=['float64', 'int64'])\n",
        "# Créer la matrice de corrélation\n",
        "corr_matrix = numeric_df.corr()\n",
        "# Afficher la heatmap\n",
        "plt.figure(figsize = (6, 5))\n",
        "plt.title(\"Correlation between different features of the dataset\", fontsize = 10, fontweight = 'bold')\n",
        "sns.heatmap(corr_matrix, cmap = 'Reds' , annot = True)\n",
        "plt.xticks(fontsize=9, rotation = 90)\n",
        "plt.yticks(fontsize=9, rotation = 90)\n",
        "plt.show()"
      ]
    },
    {
      "cell_type": "code",
      "execution_count": null,
      "metadata": {
        "id": "pWeHjYaBQNgf"
      },
      "outputs": [],
      "source": [
        "df_train_cleaned=df_train_cleaned.drop(columns=['Unnamed: 2'])\n",
        "df_test_cleaned=df_test_cleaned.drop(columns=['Unnamed: 2'])"
      ]
    },
    {
      "cell_type": "code",
      "execution_count": null,
      "metadata": {
        "colab": {
          "base_uri": "https://localhost:8080/"
        },
        "id": "mzsioIiVIxA8",
        "outputId": "a9a79e11-6abb-4d64-f072-df46713acfec"
      },
      "outputs": [
        {
          "output_type": "stream",
          "name": "stderr",
          "text": [
            "/usr/local/lib/python3.10/dist-packages/sklearn/base.py:484: FutureWarning: `BaseEstimator._check_n_features` is deprecated in 1.6 and will be removed in 1.7. Use `sklearn.utils.validation._check_n_features` instead.\n",
            "  warnings.warn(\n",
            "/usr/local/lib/python3.10/dist-packages/sklearn/base.py:493: FutureWarning: `BaseEstimator._check_feature_names` is deprecated in 1.6 and will be removed in 1.7. Use `sklearn.utils.validation._check_feature_names` instead.\n",
            "  warnings.warn(\n"
          ]
        }
      ],
      "source": [
        "from imblearn.over_sampling import RandomOverSampler\n",
        "\n",
        "# Vérifier si la colonne 'Income' est de type numérique, sinon la convertir\n",
        "if df_train_cleaned['Income'].dtype != 'int64' and df_train_cleaned['Income'].dtype != 'float64':\n",
        "    df_train_cleaned['Income'] = df_train_cleaned['Income'].astype(int)\n",
        "\n",
        "# Séparer les variables numériques\n",
        "X_numeric = df_train_cleaned.select_dtypes(include=['float64', 'int64']).drop(columns=['Income'], errors='ignore')\n",
        "\n",
        "# Séparer les variables catégoriques\n",
        "X_categorical = df_train_cleaned.select_dtypes(include=['object'])\n",
        "\n",
        "# Concaténer les deux parties\n",
        "X = pd.concat([X_numeric, X_categorical], axis=1)\n",
        "\n",
        "# Extraire la variable cible\n",
        "y = df_train_cleaned['Income']\n",
        "\n",
        "# Rééquilibrer les données avec RandomOverSampler\n",
        "ros = RandomOverSampler(random_state=42)\n",
        "X_resampled, y_resampled = ros.fit_resample(X, y)\n",
        "\n",
        "# Créer un DataFrame équilibré\n",
        "df_train_balanced = pd.DataFrame(X_resampled, columns=X.columns)\n",
        "df_train_balanced['Income'] = y_resampled\n"
      ]
    },
    {
      "cell_type": "markdown",
      "metadata": {
        "id": "HasZXRGfqIJ6"
      },
      "source": [
        "Dans ce bloc, nous avons vérifié que la variable \"income\" était numérique, encodé les variables catégorielles, puis concaténé les données. Pour l'équilibrage des classes, nous avons utilisé la méthode RandomSampleOver, qui duplique aléatoirement les exemples de la classe minoritaire pour égaliser les effectifs des deux classes.\n"
      ]
    },
    {
      "cell_type": "code",
      "execution_count": null,
      "metadata": {
        "colab": {
          "base_uri": "https://localhost:8080/"
        },
        "id": "D6AAudAoMGTL",
        "outputId": "1d856f09-894c-4c95-a938-fec633427df5"
      },
      "outputs": [
        {
          "output_type": "stream",
          "name": "stdout",
          "text": [
            "Taille avant équilibrage : (16276, 13)\n",
            "Taille après équilibrage : (24860, 13)\n"
          ]
        },
        {
          "output_type": "stream",
          "name": "stderr",
          "text": [
            "/usr/local/lib/python3.10/dist-packages/sklearn/base.py:484: FutureWarning: `BaseEstimator._check_n_features` is deprecated in 1.6 and will be removed in 1.7. Use `sklearn.utils.validation._check_n_features` instead.\n",
            "  warnings.warn(\n",
            "/usr/local/lib/python3.10/dist-packages/sklearn/base.py:493: FutureWarning: `BaseEstimator._check_feature_names` is deprecated in 1.6 and will be removed in 1.7. Use `sklearn.utils.validation._check_feature_names` instead.\n",
            "  warnings.warn(\n"
          ]
        }
      ],
      "source": [
        "from imblearn.over_sampling import RandomOverSampler\n",
        "# Vérifier si la colonne 'Income' est de type numérique, sinon la convertir\n",
        "if df_test_cleaned['Income'].dtype != 'int64' and df_test_cleaned['Income'].dtype != 'float64':\n",
        "    df_test_cleaned['Income'] = df_test_cleaned['Income'].astype(int)\n",
        "\n",
        "# Séparer les variables numériques\n",
        "X_test_numeric = df_test_cleaned.select_dtypes(include=['float64', 'int64']).drop(columns=['Income'], errors='ignore')\n",
        "\n",
        "# Séparer les variables catégoriques\n",
        "X_test_categorical = df_test_cleaned.select_dtypes(include=['object'])\n",
        "\n",
        "# Concaténer les deux parties\n",
        "X_test = pd.concat([X_test_numeric, X_test_categorical], axis=1)\n",
        "\n",
        "# Extraire la variable cible\n",
        "y_test = df_test_cleaned['Income']\n",
        "\n",
        "# Rééquilibrer les données avec RandomOverSampler\n",
        "ros = RandomOverSampler(random_state=42)\n",
        "X_test_resampled, y_test_resampled = ros.fit_resample(X_test, y_test)\n",
        "\n",
        "# Créer un DataFrame équilibré\n",
        "df_test_balanced = pd.DataFrame(X_test_resampled, columns=X_test.columns)\n",
        "df_test_balanced['Income'] = y_test_resampled\n",
        "\n",
        "# Vérification des dimensions\n",
        "print(f\"Taille avant équilibrage : {df_test_cleaned.shape}\")\n",
        "print(f\"Taille après équilibrage : {df_test_balanced.shape}\")"
      ]
    },
    {
      "cell_type": "code",
      "execution_count": null,
      "metadata": {
        "colab": {
          "base_uri": "https://localhost:8080/",
          "height": 261
        },
        "id": "OFnqadhfS3iV",
        "outputId": "709a6445-aa48-4760-d7df-9bf217dbfad3"
      },
      "outputs": [
        {
          "output_type": "display_data",
          "data": {
            "text/plain": [
              "<Figure size 500x200 with 1 Axes>"
            ],
            "image/png": "[encoded data removed]"
          },
          "metadata": {}
        }
      ],
      "source": [
        "sns.set_style(\"whitegrid\")\n",
        "plt.figure(figsize = (5, 2))\n",
        "plt.title('Income Distribution of Adults', fontsize=18, fontweight='bold')\n",
        "# Calculer la répartition par pourcentage de la colonne 'Income'\n",
        "eda_percentage = df_train_balanced['Income'].value_counts(normalize=True).rename_axis('Income').reset_index(name='Percentage')\n",
        "# Tracer le graphique avec 'hue' pour éviter l'avertissement\n",
        "ax = sns.barplot(x='Income', y='Percentage', data=eda_percentage.head(10), palette='Greens_r', hue='Income', legend=False)\n",
        "# Ajouter les annotations\n",
        "for p in ax.patches:\n",
        "    width = p.get_width()\n",
        "    height = p.get_height()\n",
        "    x, y = p.get_xy()\n",
        "    ax.annotate(f'{height:.0%}', (x + width/2, y + height*1.02), ha='center', fontweight='bold')\n",
        "plt.show()"
      ]
    },
    {
      "cell_type": "markdown",
      "metadata": {
        "id": "53V0yIXBI-fL"
      },
      "source": [
        "Examinons les test d'independence:"
      ]
    },
    {
      "cell_type": "code",
      "execution_count": null,
      "metadata": {
        "colab": {
          "base_uri": "https://localhost:8080/"
        },
        "id": "lJZ1pATsJIFy",
        "outputId": "1533dc72-31dc-4ba1-fcdc-6f1e612263b7"
      },
      "outputs": [
        {
          "output_type": "stream",
          "name": "stdout",
          "text": [
            "p-value de Mann-Whitney pour age : 0.0000\n",
            "p-value de Mann-Whitney pour education-num : 0.0000\n",
            "p-value de Mann-Whitney pour capital-gain : 0.0000\n",
            "p-value de Mann-Whitney pour capital-loss : 0.0000\n",
            "p-value de Mann-Whitney pour hours-per-week : 0.0000\n"
          ]
        }
      ],
      "source": [
        "# Importer mannwhitneyu de scipy.stats\n",
        "from scipy.stats import mannwhitneyu\n",
        "# Identifier les colonnes numériques\n",
        "numeric_columns = df_train_balanced.select_dtypes(include=['float64', 'int64']).drop(columns=['Income']).columns\n",
        "# Calcul des p-values pour chaque colonne numérique\n",
        "for col in numeric_columns:\n",
        "    group0 = df_train_balanced[df_train_balanced['Income'] == 0][col]\n",
        "    group1 = df_train_balanced[df_train_balanced['Income'] == 1][col]\n",
        "    # Test de Mann-Whitney\n",
        "    _, p_value = mannwhitneyu(group0, group1)\n",
        "    print(f\"p-value de Mann-Whitney pour {col} : {p_value:.4f}\")"
      ]
    },
    {
      "cell_type": "code",
      "execution_count": null,
      "metadata": {
        "colab": {
          "base_uri": "https://localhost:8080/"
        },
        "id": "SjC50b-hJRJL",
        "outputId": "547d40ce-8895-4388-a1af-0d579fb160d1"
      },
      "outputs": [
        {
          "output_type": "stream",
          "name": "stdout",
          "text": [
            "kruskall wallis p-value pour workclass:0.00000\n",
            "kruskall wallis p-value pour marital-status:0.00000\n",
            "kruskall wallis p-value pour occupation:0.00000\n",
            "kruskall wallis p-value pour relationship:0.00000\n",
            "kruskall wallis p-value pour race:0.00000\n",
            "kruskall wallis p-value pour sex:0.00000\n",
            "kruskall wallis p-value pour native-country:0.00000\n"
          ]
        }
      ],
      "source": [
        "from scipy.stats import kruskal\n",
        "variables_qualitatives =df_train_balanced.select_dtypes(include=['object']).columns\n",
        "# 2. Effectuer le test du kruskall centre chaque variable qualitative et la variable cible 'Income'\n",
        "for col in variables_qualitatives:\n",
        "  groups=[df_train_balanced[df_train_balanced[col]==cat]['Income'] for cat in df_train_balanced[col].unique()]\n",
        "  stat, p = kruskal(*groups)\n",
        "  print(f\"kruskall wallis p-value pour {col}:{p:.5f}\")"
      ]
    },
    {
      "cell_type": "markdown",
      "metadata": {
        "id": "-WS-r7W6s_aw"
      },
      "source": [
        "Les tests statistiques (**Mann-Whitney pour les variables numériques et Kruskal-Wallis pour les variables catégorielles**)\n",
        "ont montré des p-values égales à 0.0000, indiquant des différences significatives entre les groupes (income=0 et income=1).\n",
        "Ces résultats confirment une forte dépendance entre la variable cible et les variables explicatives."
      ]
    },
    {
      "cell_type": "code",
      "execution_count": null,
      "metadata": {
        "id": "1aadOhai9pFx"
      },
      "outputs": [],
      "source": [
        "# Identifier les colonnes numériques et catégoriques pour l'ensemble d'entraînement\n",
        "numeric_features_train = df_train_balanced.select_dtypes(include=['int64', 'float64']).drop(columns=['Income']).columns\n",
        "categorical_features_train = df_train_balanced.select_dtypes(include=['object']).columns\n",
        "# Identifier les colonnes numériques et catégoriques pour l'ensemble de test\n",
        "numeric_features_test = df_test_balanced.select_dtypes(include=['int64', 'float64']).drop(columns=['Income'], errors='ignore').columns\n",
        "categorical_features_test = df_test_balanced.select_dtypes(include=['object']).columns\n",
        "# Vérification que les colonnes sont cohérentes entre train et test\n",
        "assert list(numeric_features_train) == list(numeric_features_test), \"Les colonnes numériques ne correspondent pas entre train et test.\"\n",
        "assert list(categorical_features_train) == list(categorical_features_test), \"Les colonnes catégoriques ne correspondent pas entre train et test.\""
      ]
    },
    {
      "cell_type": "markdown",
      "metadata": {
        "id": "einx6siP9zXF"
      },
      "source": [
        " ***Prétraitement des données***"
      ]
    },
    {
      "cell_type": "code",
      "execution_count": null,
      "metadata": {
        "id": "li0rK-bu97Rc"
      },
      "outputs": [],
      "source": [
        "# Préparer le préprocesseur pour les colonnes numériques et catégoriques\n",
        "preprocessor = ColumnTransformer([\n",
        "    ('num', StandardScaler(), numeric_features_train),  # Standardisation des colonnes numériques\n",
        "    ('cat', OneHotEncoder(handle_unknown='ignore'), categorical_features_train)  # Encodage des colonnes catégoriques\n",
        "])\n",
        "# Préparer le préprocesseur pour les colonnes numériques et catégoriques\n",
        "preprocessor = ColumnTransformer([\n",
        "    ('num', StandardScaler(), numeric_features_test),  # Standardisation des colonnes numériques\n",
        "    ('cat', OneHotEncoder(handle_unknown='ignore'), categorical_features_test)  # Encodage des colonnes catégoriques\n",
        "])"
      ]
    },
    {
      "cell_type": "markdown",
      "metadata": {
        "id": "WKltGhzU9_5C"
      },
      "source": [
        "**StandardScaler**: Pour normaliser les colonnes numériques.\n",
        "\n",
        "**OneHotEncoder** : Pour convertir les colonnes catégoriques en variables numériques."
      ]
    },
    {
      "cell_type": "code",
      "execution_count": null,
      "metadata": {
        "colab": {
          "base_uri": "https://localhost:8080/"
        },
        "id": "Hd9iz9KS-Kth",
        "outputId": "09865f67-b018-46c6-e3b8-13ac91f66c76"
      },
      "outputs": [
        {
          "output_type": "stream",
          "name": "stdout",
          "text": [
            "Dimensions des ensembles :\n",
            "X_train : (49396, 12)\n",
            "y_train : (49396,)\n",
            "X_test : (24860, 12)\n",
            "y_test : (24860,)\n"
          ]
        }
      ],
      "source": [
        "# Définir X (caractéristiques) et y (variable cible) pour l'entraînement\n",
        "X_train = df_train_balanced.drop(columns=['Income'])\n",
        "y_train = df_train_balanced['Income']\n",
        "# Définir X (caractéristiques) et y (variable cible) pour le test\n",
        "X_test = df_test_balanced.drop(columns=['Income'])\n",
        "y_test = df_test_balanced['Income']\n",
        "print(\"Dimensions des ensembles :\")\n",
        "print(\"X_train :\", X_train.shape)\n",
        "print(\"y_train :\", y_train.shape)\n",
        "print(\"X_test :\", X_test.shape)\n",
        "print(\"y_test :\", y_test.shape)"
      ]
    },
    {
      "cell_type": "markdown",
      "metadata": {
        "id": "7kvT75Q8BiOs"
      },
      "source": [
        " **Construction du pipeline avec le modèle**"
      ]
    },
    {
      "cell_type": "code",
      "execution_count": null,
      "metadata": {
        "id": "pgrU8i0zBl_R"
      },
      "outputs": [],
      "source": [
        "# Construire le pipeline avec le modèle DecisionTreeClassifier\n",
        "clf = Pipeline(steps=[\n",
        "    ('preprocessor', preprocessor),\n",
        "    ('classifier', DecisionTreeClassifier(max_depth=5, random_state=42))\n",
        "])"
      ]
    },
    {
      "cell_type": "markdown",
      "metadata": {
        "id": "5hKT-ry1v9ly"
      },
      "source": [
        "Ce code construit une pipeline qui combine le prétraitement des données et l'entraînement d'un modèle d'arbre de décision.\n",
        "La pipeline applique d'abord les transformations définies dans 'preprocessor' (comme la standardisation ou l'encodage),\n",
        "puis entraîne un DecisionTreeClassifier avec une profondeur maximale de 5. Cela permet de structurer le flux de travail\n",
        "tout en évitant les fuites de données (data leakage) en appliquant les transformations uniquement aux données d'entraînement.\n"
      ]
    },
    {
      "cell_type": "markdown",
      "metadata": {
        "id": "_uz0LHYMBtRS"
      },
      "source": [
        "**Entraînement du modèle**"
      ]
    },
    {
      "cell_type": "code",
      "execution_count": null,
      "metadata": {
        "colab": {
          "base_uri": "https://localhost:8080/"
        },
        "id": "4PA54R9dBntW",
        "outputId": "cf855a68-54d1-4b6b-af0f-e9bfe2d9ac7a"
      },
      "outputs": [
        {
          "output_type": "stream",
          "name": "stdout",
          "text": [
            "Score du modèle (entraînement) : 0.815\n"
          ]
        }
      ],
      "source": [
        "# Entraîner le modèle\n",
        "clf.fit(X_train, y_train)\n",
        "# Afficher le score d'entraînement\n",
        "print(f\"Score du modèle (entraînement) : {clf.score(X_train, y_train):.3f}\")"
      ]
    },
    {
      "cell_type": "markdown",
      "metadata": {
        "id": "ryUjJFYSB0ST"
      },
      "source": [
        "**Évaluation du modèle**"
      ]
    },
    {
      "cell_type": "code",
      "execution_count": null,
      "metadata": {
        "colab": {
          "base_uri": "https://localhost:8080/"
        },
        "id": "pdAks8z7B2Ys",
        "outputId": "20a0b836-3e02-4cca-9977-2b75c5552ffc"
      },
      "outputs": [
        {
          "output_type": "stream",
          "name": "stdout",
          "text": [
            "Score du modèle (test) : 0.810\n"
          ]
        }
      ],
      "source": [
        "# Score sur l'ensemble de test\n",
        "print(f\"Score du modèle (test) : {clf.score(X_test, y_test):.3f}\")\n",
        "# Calcul des prédictions\n",
        "y_pred = clf.predict(X_test)"
      ]
    },
    {
      "cell_type": "markdown",
      "metadata": {
        "id": "bNh_5CSoyK3X"
      },
      "source": [
        "Le modèle montre une performance satisfaisante, avec un score de 81,5 % sur les données d'entraînement et 81,0 % sur les données de test. Ces résultats indiquent que le modèle est équilibré, c'est-à-dire qu'il généralise bien aux nouvelles données sans présenter de signes importants de surapprentissage (overfitting) ou de sous-apprentissage (underfitting)."
      ]
    },
    {
      "cell_type": "markdown",
      "metadata": {
        "id": "qcn8gMMaB7Uf"
      },
      "source": [
        "**Courbe ROC**"
      ]
    },
    {
      "cell_type": "code",
      "execution_count": null,
      "metadata": {
        "colab": {
          "base_uri": "https://localhost:8080/",
          "height": 462
        },
        "id": "5bjvCVB_B_H9",
        "outputId": "fca984c0-6799-40c3-b30c-2413af1f00e8"
      },
      "outputs": [
        {
          "output_type": "stream",
          "name": "stdout",
          "text": [
            "Modèle aléatoire : ROC AUC=0.500\n",
            "DecisionTreeClassifier : ROC AUC=0.892\n"
          ]
        },
        {
          "output_type": "display_data",
          "data": {
            "text/plain": [
              "<Figure size 600x400 with 1 Axes>"
            ],
            "image/png": "[encoded data removed]"
          },
          "metadata": {}
        },
        {
          "output_type": "execute_result",
          "data": {
            "text/plain": [
              "0.8915532937790323"
            ]
          },
          "metadata": {},
          "execution_count": 54
        }
      ],
      "source": [
        "# Fonction pour tracer la courbe ROC\n",
        "def drawRocCurve(classifier, nameClassifier, X_test, y_test):\n",
        "    ns_probs = [0 for _ in range(len(y_test))]\n",
        "    lr_probs = classifier.predict_proba(X_test)[:, 1]  # Probabilités pour la classe positive\n",
        "    # Calculer l'AUC\n",
        "    ns_auc = roc_auc_score(y_test, ns_probs)\n",
        "    lr_auc = roc_auc_score(y_test, lr_probs)\n",
        "    print(f\"Modèle aléatoire : ROC AUC={ns_auc:.3f}\")\n",
        "    print(f\"{nameClassifier} : ROC AUC={lr_auc:.3f}\")\n",
        "    # Tracer les courbes ROC\n",
        "    ns_fpr, ns_tpr, _ = roc_curve(y_test, ns_probs)\n",
        "    lr_fpr, lr_tpr, _ = roc_curve(y_test, lr_probs)\n",
        "    plt.figure(figsize=(6, 4))\n",
        "    plt.plot(ns_fpr, ns_tpr, linestyle='--', label='Modèle aléatoire')\n",
        "    plt.plot(lr_fpr, lr_tpr, marker='.', label=nameClassifier)\n",
        "    plt.xlabel('False Positive Rate')\n",
        "    plt.ylabel('True Positive Rate')\n",
        "    plt.legend()\n",
        "    plt.title('Courbe ROC')\n",
        "    plt.show()\n",
        "    return lr_auc\n",
        "# Tracer la courbe ROC\n",
        "drawRocCurve(clf, \"DecisionTreeClassifier\", X_test,y_test)"
      ]
    },
    {
      "cell_type": "markdown",
      "metadata": {
        "id": "b0iHa5g-zpc0"
      },
      "source": [
        "**La courbe ROC** (Receiver Operating Characteristic) compare les performances **du modèle aléatoire** (représenté par la ligne en pointillés) et du **DecisionTreeClassifier** (représenté par la courbe orange).\n",
        "\n",
        "Le modèle aléatoire a un AUC (Area Under Curve) égal à **0,500**, ce qui reflète une performance équivalente à des prédictions aléatoires.\n",
        "En revanche, le modèle DecisionTreeClassifier affiche une AUC de **0,892**, **ce qui montre une excellente capacité à différencier les classes positives et négatives.**\n",
        "La courbe orange est nettement au-dessus de la diagonale (ligne du modèle aléatoire), ce qui indique que le modèle possède une forte capacité de classification. Cette performance suggère qu'il est capable de bien séparer les observations positives des négatives tout en minimisant les erreurs de classification.\n",
        "\n",
        "**En conclusion, l'AUC élevée et la forme de la courbe démontrent que le DecisionTreeClassifier est beaucoup plus efficace qu'un modèle aléatoire.**"
      ]
    },
    {
      "cell_type": "markdown",
      "metadata": {
        "id": "O_aREPFaCAfs"
      },
      "source": [
        "**Matrice de confusion**"
      ]
    },
    {
      "cell_type": "code",
      "source": [
        "# Afficher la matrice de confusion avec une taille plus petite\n",
        "cm = confusion_matrix(y_test, y_pred)\n",
        "fig, ax = plt.subplots(figsize=(6, 4))\n",
        "ConfusionMatrixDisplay(cm).plot(cmap=plt.cm.Blues, ax=ax)\n",
        "plt.title('Matrice de Confusion')\n",
        "plt.show()"
      ],
      "metadata": {
        "colab": {
          "base_uri": "https://localhost:8080/",
          "height": 410
        },
        "id": "UnxXHy39X4M0",
        "outputId": "4bfb64e5-42c6-4828-d2f3-a696ac4e49e4"
      },
      "execution_count": null,
      "outputs": [
        {
          "output_type": "display_data",
          "data": {
            "text/plain": [
              "<Figure size 600x400 with 2 Axes>"
            ],
            "image/png": "[encoded data removed]"
          },
          "metadata": {}
        }
      ]
    },
    {
      "cell_type": "markdown",
      "metadata": {
        "id": "Io5W4uQv3RAE"
      },
      "source": [
        "**Vrais positifs (True Positives, TP)** = 10 842\n",
        "Cela signifie que le modèle a correctement prédit que 10 842 individus appartiennent à la classe 1.\n",
        "\n",
        "**Faux négatifs (False Negatives, FN)** = 1 588\n",
        "Cela signifie que 1 588 individus appartiennent réellement à la classe 1, mais que le modèle les a incorrectement prédits comme appartenant à la classe opposée (classe 0).\n",
        "\n",
        "**Faux positifs (False Positives, FP)** = 3 146\n",
        "Cela signifie que 3 146 individus ont été incorrectement prédits comme appartenant à la classe 1, alors qu'ils n'y appartiennent pas.\n",
        "\n",
        "**Vrais négatifs (True Negatives, TN)** = 9 284\n",
        "Cela signifie que le modèle a correctement identifié 9 284 individus appartiennent à la classe 0.\n",
        "\n"
      ]
    },
    {
      "cell_type": "code",
      "execution_count": null,
      "metadata": {
        "colab": {
          "base_uri": "https://localhost:8080/"
        },
        "id": "kPgIyEAVFZjy",
        "outputId": "ea02ced1-be2f-404d-fa4b-fa46d28cec33"
      },
      "outputs": [
        {
          "output_type": "stream",
          "name": "stdout",
          "text": [
            "Classification Report :\n",
            "              precision    recall  f1-score   support\n",
            "\n",
            "       <=50K       0.85      0.75      0.80     12430\n",
            "        >50K       0.78      0.87      0.82     12430\n",
            "\n",
            "    accuracy                           0.81     24860\n",
            "   macro avg       0.81      0.81      0.81     24860\n",
            "weighted avg       0.81      0.81      0.81     24860\n",
            "\n"
          ]
        }
      ],
      "source": [
        "from sklearn.metrics import classification_report, confusion_matrix, ConfusionMatrixDisplay\n",
        "# Afficher les métriques de performance\n",
        "print(\"Classification Report :\")\n",
        "print(classification_report(y_test, y_pred, target_names=['<=50K', '>50K']))"
      ]
    },
    {
      "cell_type": "markdown",
      "metadata": {
        "id": "Cz3m7GnYp27a"
      },
      "source": [
        "## Analyse des Résultats du Modèle\n",
        "\n",
        "### Résumé des valeurs clés :\n",
        "- **Précision pour la classe <=50K :** 0,85  \n",
        "  Cela signifie que **85%** des individus prédits comme appartenant à cette classe sont correctement classés.\n",
        "\n",
        "- **Rappel pour la classe <=50K :** 0,75  \n",
        "  Cela indique que **75%** des individus qui appartiennent réellement à la classe **<=50K** ont été correctement identifiés par le modèle.\n",
        "\n",
        "- **F1-Score pour la classe <=50K :** 0,80  \n",
        "  Le F1-score est la moyenne harmonique entre la précision et le rappel. Ici, il est de **0,80**, ce qui indique un équilibre favorable.\n",
        "\n",
        "---\n",
        "\n",
        "- **Précision pour la classe >50K :** 0,78  \n",
        "  Cela signifie que **78%** des individus prédits comme appartenant à cette classe sont correctement classés.\n",
        "\n",
        "- **Rappel pour la classe >50K :** 0,87  \n",
        "  Cela indique que **87%** des individus qui appartiennent réellement à la classe **>50K** ont été correctement identifiés par le modèle.\n",
        "\n",
        "- **F1-Score pour la classe >50K :** 0,82  \n",
        "  Le F1-score est de **0,82**, ce qui indique un équilibre positif entre précision et rappel pour cette classe.\n",
        "\n",
        "---\n",
        "\n",
        "### Mesures Globales :\n",
        "- **Accuracy globale du modèle :** 0,81  \n",
        "  Cela signifie que **81%** des prédictions du modèle sont correctes sur l'ensemble des données.\n",
        "\n",
        "- **Macro Average :** 0,81  \n",
        "  Cela donne une idée globale des performances du modèle sans prendre en compte la taille relative des deux classes.\n",
        "\n",
        "- **Weighted Average :** 0,81  \n",
        "  Le score moyen pondéré est cohérent avec l'accuracy globale.\n",
        "\n",
        "---\n",
        "\n",
        "## Conclusion\n",
        "1. Le modèle est globalement performant avec une **accuracy de 81%**.\n",
        "2. Le rappel est meilleur pour la classe **>50K** (0,87) que pour la classe **<=50K** (0,75), ce qui peut indiquer que le modèle a une meilleure capacité à identifier les individus dans la classe avec un revenu supérieur à 50K.\n",
        "3. Les valeurs de précision montrent que la classe **<=50K** est prédite avec une meilleure précision, tandis que la classe **>50K** a un rappel légèrement inférieur.\n",
        "\n"
      ]
    },
    {
      "cell_type": "markdown",
      "metadata": {
        "id": "GGoYsRpPLB8-"
      },
      "source": [
        "# **Autre modèle**"
      ]
    },
    {
      "cell_type": "code",
      "execution_count": null,
      "metadata": {
        "colab": {
          "base_uri": "https://localhost:8080/",
          "height": 698
        },
        "id": "D_2GIMZuGMuO",
        "outputId": "8d459dd5-7b07-479f-d889-02ab23e0d624"
      },
      "outputs": [
        {
          "output_type": "stream",
          "name": "stdout",
          "text": [
            "\n",
            "Random Forest Classifier:\n",
            "Accuracy: 0.7839501206757844\n",
            "Classification Report:\n",
            "               precision    recall  f1-score   support\n",
            "\n",
            "       <=50K       0.74      0.88      0.80     12430\n",
            "        >50K       0.85      0.69      0.76     12430\n",
            "\n",
            "    accuracy                           0.78     24860\n",
            "   macro avg       0.80      0.78      0.78     24860\n",
            "weighted avg       0.80      0.78      0.78     24860\n",
            "\n"
          ]
        },
        {
          "output_type": "display_data",
          "data": {
            "text/plain": [
              "<Figure size 640x480 with 2 Axes>"
            ],
            "image/png": "[encoded data removed]"
          },
          "metadata": {}
        }
      ],
      "source": [
        "from sklearn.ensemble import RandomForestClassifier\n",
        "from sklearn.metrics import accuracy_score, classification_report, confusion_matrix, ConfusionMatrixDisplay\n",
        "import matplotlib.pyplot as plt\n",
        "# Pipeline avec RandomForestClassifier\n",
        "pipeline_rf = Pipeline([\n",
        "    ('preprocessor', preprocessor),\n",
        "    ('classifier', RandomForestClassifier(n_estimators=100, random_state=42))\n",
        "])\n",
        "# Entraîner le modèle RandomForestClassifier\n",
        "pipeline_rf.fit(X_train, y_train)\n",
        "\n",
        "# Prédire avec RandomForestClassifier\n",
        "y_pred_rf = pipeline_rf.predict(X_test)\n",
        "print(\"\\nRandom Forest Classifier:\")\n",
        "print(\"Accuracy:\", accuracy_score(y_test, y_pred_rf))\n",
        "print(\"Classification Report:\\n\", classification_report(y_test, y_pred_rf, target_names=['<=50K', '>50K']))\n",
        "# Afficher la matrice de confusion\n",
        "cm_rf = confusion_matrix(y_test, y_pred_rf)\n",
        "# Afficher la matrice de confusion pour RandomForestClassifier\n",
        "ConfusionMatrixDisplay(confusion_matrix=cm_rf, display_labels=['<=50K', '>50K']).plot(cmap=plt.cm.Blues)\n",
        "plt.title('Matrice de Confusion - Random Forest')\n",
        "plt.show()"
      ]
    },
    {
      "cell_type": "markdown",
      "metadata": {
        "id": "Bxt7wnE8rX8H"
      },
      "source": [
        "## Analyse des Résultats du Modèle - Random Forest Classifier\n",
        "\n",
        "### Résumé des valeurs clés :\n",
        "- **Accuracy globale :** 0,78  \n",
        "  Cela signifie que le modèle est correct dans **78%** des cas sur l'ensemble des données.\n",
        "\n",
        "---\n",
        "\n",
        "### Résumé du Classification Report :\n",
        "\n",
        "#### Pour la classe **`<=50K`** :\n",
        "- **Précision = 0,74**  \n",
        "  Cela indique que **74%** des prédictions pour cette classe sont correctes.  \n",
        "\n",
        "- **Rappel = 0,88**  \n",
        "  Cela signifie que le modèle a correctement identifié **88%** des individus appartenant réellement à la classe **`<=50K`**.\n",
        "\n",
        "- **F1-Score = 0,80**  \n",
        "  Cela reflète un équilibre harmonieux entre précision et rappel pour cette classe.\n",
        "\n",
        "---\n",
        "\n",
        "#### Pour la classe **`>50K`** :\n",
        "- **Précision = 0,85**  \n",
        "  Cela indique que **85%** des prédictions pour cette classe sont correctes.  \n",
        "\n",
        "- **Rappel = 0,69**  \n",
        "  Cela signifie que le modèle a correctement identifié **69%** des individus appartenant réellement à la classe **`>50K`**.\n",
        "\n",
        "- **F1-Score = 0,76**  \n",
        "  Cela montre un équilibre entre précision et rappel dans cette classe.\n",
        "\n",
        "---\n",
        "\n",
        "### Moyennes :\n",
        "- **Macro Average :**  \n",
        "  - Précision = 0,80  \n",
        "  - Rappel = 0,78  \n",
        "  - F1-Score = 0,78  \n",
        "\n",
        "  La macro moyenne donne une vue globale des performances du modèle sur les deux classes sans tenir compte de la taille relative des classes.\n",
        "\n",
        "- **Weighted Average :**  \n",
        "  - Précision = 0,80  \n",
        "  - Rappel = 0,78  \n",
        "  - F1-Score = 0,78  \n",
        "\n",
        "  La moyenne pondérée prend en compte la taille relative de chaque classe dans l'ensemble de données.\n",
        "\n",
        "---\n",
        "\n",
        "## Conclusion\n",
        "1. **Précision et rappel équilibrés dans l'ensemble :**  \n",
        "   Le modèle a un équilibre raisonnable, avec une précision globale de **0,80** et un rappel équilibré.\n",
        "\n",
        "2. **Classe `<=50K` identifiée avec un rappel élevé (0,88), mais une précision plus faible (0,74).**  \n",
        "   Cela peut suggérer que le modèle identifie bien les individus dans cette classe, mais certains faux positifs peuvent exister.\n",
        "\n",
        "3. **Classe `>50K` avec une précision élevée de 0,85 mais un rappel plus faible (0,69).**  \n",
        "   Cela indique que le modèle est confiant dans ses prédictions pour cette classe, mais peut manquer certains individus qui appartiennent réellement à cette classe."
      ]
    },
    {
      "cell_type": "markdown",
      "metadata": {
        "id": "8Ai6yJHLudO1"
      },
      "source": [
        "## Conclusion\n",
        "1. **Decision Tree Classifier :**  \n",
        "   - Montre une meilleure performance globale en termes d'accuracy et de F1-Score.  \n",
        "   - A une meilleure capacité à équilibrer précision et rappel.\n",
        "\n",
        "2. **Random Forest Classifier :**  \n",
        "   - Présente des valeurs similaires mais légèrement inférieures en comparaison avec Decision Tree Classifier.  \n",
        "   - Moins efficace en termes de rappel global.\n",
        "\n",
        "En général, **Decision Tree Classifier** est légèrement plus performant en termes de métriques globales. Toutefois, l'avantage de Random Forest est sa robustesse en évitant le surajustement grâce à la combinaison de plusieurs arbres de décision.\n",
        "\n",
        "Pour une meilleure généralisation sur de nouveaux ensembles de données, Random Forest est souvent préféré en raison de sa nature d'agrégation (moyenne de plusieurs arbres)."
      ]
    }
  ],
  "metadata": {
    "colab": {
      "provenance": []
    },
    "kernelspec": {
      "display_name": "Python 3",
      "name": "python3"
    },
    "language_info": {
      "name": "python"
    }
  },
  "nbformat": 4,
  "nbformat_minor": 0
}